{
 "metadata": {
  "name": "",
  "signature": "sha256:11280b992ee9a65562f632854e58066d124a525801064310741f6434b3fbe1f5"
 },
 "nbformat": 3,
 "nbformat_minor": 0,
 "worksheets": [
  {
   "cells": [
    {
     "cell_type": "markdown",
     "metadata": {},
     "source": [
      "# Analysis of Pronoun Usage In Presidential News Conferences\n",
      "\n",
      "This notebook analyzes how presidents have used first person vs. second person pronouns during their official news conferences.\n",
      "\n",
      "The analysis relies on this parsing library: https://github.com/BuzzFeedNews/whtranscripts"
     ]
    },
    {
     "cell_type": "code",
     "collapsed": false,
     "input": [
      "import pandas as pd\n",
      "import sys\n",
      "import whtranscripts\n",
      "import re"
     ],
     "language": "python",
     "metadata": {},
     "outputs": [],
     "prompt_number": 1
    },
    {
     "cell_type": "markdown",
     "metadata": {},
     "source": [
      "<strong>press_conference_data</strong> is a directory that includes a full set of press conferences pulled down using whtranscripts.download "
     ]
    },
    {
     "cell_type": "code",
     "collapsed": false,
     "input": [
      "conferences = whtranscripts.Conference.from_dir(\"../president_speech_notebooks/press_conference_data\")"
     ],
     "language": "python",
     "metadata": {},
     "outputs": [],
     "prompt_number": 2
    },
    {
     "cell_type": "code",
     "collapsed": false,
     "input": [
      "all_passages = [x for b in conferences for x in b.passages]"
     ],
     "language": "python",
     "metadata": {},
     "outputs": [],
     "prompt_number": 3
    },
    {
     "cell_type": "code",
     "collapsed": false,
     "input": [
      "passages = pd.DataFrame(all_passages, columns=[\"passage\"])"
     ],
     "language": "python",
     "metadata": {},
     "outputs": [],
     "prompt_number": 4
    },
    {
     "cell_type": "code",
     "collapsed": false,
     "input": [
      "passages[\"date\"] = passages[\"passage\"].apply(lambda x: x.transcript.date)\n",
      "passages[\"speaker\"] = passages[\"passage\"].apply(lambda x: x.speaker)\n",
      "passages[\"text\"] = passages[\"passage\"].apply(lambda x: x.text)\n",
      "passages[\"president\"] = passages[\"passage\"].apply(lambda x: x.transcript.president)\n",
      "passages[\"tokens\"] = passages[\"passage\"].apply(lambda x: x.tokens)"
     ],
     "language": "python",
     "metadata": {},
     "outputs": [],
     "prompt_number": 5
    },
    {
     "cell_type": "markdown",
     "metadata": {},
     "source": [
      "## Presidents Only DataFrame\n",
      "\n",
      "This eliminates everything but the words spoken by the President. Unfortunately there are a lot of special cases so we have to do some fancy filtering in the <strong>is_president</strong> function."
     ]
    },
    {
     "cell_type": "code",
     "collapsed": false,
     "input": [
      "def is_president(row):\n",
      "    if row[\"speaker\"] and \"The President\" in row[\"speaker\"]\\\n",
      "        and \"Secretary\" not in row[\"speaker\"]:\n",
      "        return True\n",
      "    elif row[\"speaker\"] == \"The. President\" or row[\"speaker\"] == \"Mr. President\":\n",
      "        return True\n",
      "    elif row[\"speaker\"] and row[\"president\"].split()[-1] in row[\"speaker\"]\\\n",
      "        and \"Mrs.\" not in row[\"speaker\"] and \"Governor\" not in row[\"speaker\"]:\n",
      "        return True\n",
      "    else:\n",
      "        return False"
     ],
     "language": "python",
     "metadata": {},
     "outputs": [],
     "prompt_number": 6
    },
    {
     "cell_type": "code",
     "collapsed": false,
     "input": [
      "passages[\"is_president\"] = passages.apply(lambda x: is_president(x), axis=1)"
     ],
     "language": "python",
     "metadata": {},
     "outputs": [],
     "prompt_number": 7
    },
    {
     "cell_type": "code",
     "collapsed": false,
     "input": [
      "president_passages = passages[passages[\"is_president\"]]"
     ],
     "language": "python",
     "metadata": {},
     "outputs": [],
     "prompt_number": 8
    },
    {
     "cell_type": "markdown",
     "metadata": {},
     "source": [
      "## First Person References"
     ]
    },
    {
     "cell_type": "markdown",
     "metadata": {},
     "source": [
      "First person singular references"
     ]
    },
    {
     "cell_type": "code",
     "collapsed": false,
     "input": [
      "president_passages[\"i\"] = president_passages[\"passage\"].apply(lambda x: x.count_token_occurrences(\"i\"))\n",
      "president_passages[\"me\"] = president_passages[\"passage\"].apply(lambda x: x.count_token_occurrences(\"me\"))\n",
      "president_passages[\"my\"] = president_passages[\"passage\"].apply(lambda x: x.count_token_occurrences(\"my\"))\n",
      "president_passages[\"mine\"] = president_passages[\"passage\"].apply(lambda x: x.count_token_occurrences(\"mine\"))\n",
      "president_passages[\"myself\"] = president_passages[\"passage\"].apply(lambda x: x.count_token_occurrences(\"myself\"))"
     ],
     "language": "python",
     "metadata": {},
     "outputs": [],
     "prompt_number": 9
    },
    {
     "cell_type": "code",
     "collapsed": false,
     "input": [
      "president_passages[\"first_person_singular\"] = president_passages.apply(lambda x: x[\"i\"] + x[\"me\"] + x[\"my\"] +\\\n",
      "                                                                       x[\"mine\"] + x[\"myself\"], axis=1)"
     ],
     "language": "python",
     "metadata": {},
     "outputs": [],
     "prompt_number": 10
    },
    {
     "cell_type": "markdown",
     "metadata": {},
     "source": [
      "First person plural references"
     ]
    },
    {
     "cell_type": "code",
     "collapsed": false,
     "input": [
      "president_passages[\"we\"] = president_passages[\"passage\"].apply(lambda x: x.count_token_occurrences(\"we\"))\n",
      "president_passages[\"our\"] = president_passages[\"passage\"].apply(lambda x: x.count_token_occurrences(\"our\"))\n",
      "president_passages[\"ours\"] = president_passages[\"passage\"].apply(lambda x: x.count_token_occurrences(\"ours\"))\n",
      "president_passages[\"ourselves\"] = president_passages[\"passage\"].apply(lambda x: x.count_token_occurrences(\"ourselves\"))\n",
      "president_passages[\"us\"] = president_passages[\"passage\"].apply(lambda x: x.count_token_occurrences(\"us\"))"
     ],
     "language": "python",
     "metadata": {},
     "outputs": [],
     "prompt_number": 11
    },
    {
     "cell_type": "code",
     "collapsed": false,
     "input": [
      "president_passages[\"first_person_plural\"] = president_passages.apply(lambda x: x[\"we\"] + x[\"our\"] + x[\"ours\"] + x[\"ourselves\"] + x[\"us\"], axis=1)"
     ],
     "language": "python",
     "metadata": {},
     "outputs": [],
     "prompt_number": 12
    },
    {
     "cell_type": "code",
     "collapsed": false,
     "input": [
      "president_passages[\"first_person\"] = president_passages.apply(lambda x: x[\"first_person_singular\"] + \n",
      "                                                                x[\"first_person_singular\"], axis=1)"
     ],
     "language": "python",
     "metadata": {},
     "outputs": [],
     "prompt_number": 13
    },
    {
     "cell_type": "markdown",
     "metadata": {},
     "source": [
      "## Second Person References"
     ]
    },
    {
     "cell_type": "code",
     "collapsed": false,
     "input": [
      "president_passages[\"you\"] = president_passages[\"passage\"].apply(lambda x: x.count_token_occurrences(\"you\"))\n",
      "president_passages[\"your\"] = president_passages[\"passage\"].apply(lambda x: x.count_token_occurrences(\"your\"))\n",
      "president_passages[\"yours\"] = president_passages[\"passage\"].apply(lambda x: x.count_token_occurrences(\"yours\"))\n",
      "president_passages[\"yourself\"] = president_passages[\"passage\"].apply(lambda x: x.count_token_occurrences(\"yourself\"))"
     ],
     "language": "python",
     "metadata": {},
     "outputs": [],
     "prompt_number": 14
    },
    {
     "cell_type": "code",
     "collapsed": false,
     "input": [
      "president_passages[\"second_person\"] = president_passages.apply(lambda x: x[\"you\"] + x[\"your\"] + + x[\"yours\"] + x[\"yourself\"], axis=1)"
     ],
     "language": "python",
     "metadata": {},
     "outputs": [],
     "prompt_number": 15
    },
    {
     "cell_type": "markdown",
     "metadata": {},
     "source": [
      "## Third Person References"
     ]
    },
    {
     "cell_type": "code",
     "collapsed": false,
     "input": [
      "president_passages[\"they\"] = president_passages[\"passage\"].apply(lambda x: x.count_token_occurrences(\"they\"))\n",
      "president_passages[\"their\"] = president_passages[\"passage\"].apply(lambda x: x.count_token_occurrences(\"their\"))\n",
      "president_passages[\"theirs\"] = president_passages[\"passage\"].apply(lambda x: x.count_token_occurrences(\"theirs\"))\n",
      "president_passages[\"themselves\"] = president_passages[\"passage\"].apply(lambda x: x.count_token_occurrences(\"themselves\"))"
     ],
     "language": "python",
     "metadata": {},
     "outputs": [],
     "prompt_number": 16
    },
    {
     "cell_type": "code",
     "collapsed": false,
     "input": [
      "president_passages[\"third_person\"] = president_passages.apply(lambda x: x[\"they\"] + x[\"their\"] + x[\"theirs\"] + x[\"themselves\"], axis=1)"
     ],
     "language": "python",
     "metadata": {},
     "outputs": [],
     "prompt_number": 17
    },
    {
     "cell_type": "code",
     "collapsed": false,
     "input": [
      "president_passages[\"word_count\"] = president_passages[\"passage\"].apply(lambda x: x.get_word_count())"
     ],
     "language": "python",
     "metadata": {},
     "outputs": [],
     "prompt_number": 18
    },
    {
     "cell_type": "code",
     "collapsed": false,
     "input": [
      "president_analysis = president_passages[[\"word_count\", \"tokens\", \"date\", \"speaker\", \"president\",\n",
      "                                         \"passage\", \"first_person\", \"first_person_singular\",\n",
      "                                         \"first_person_plural\", \"second_person\", \"third_person\"]]"
     ],
     "language": "python",
     "metadata": {},
     "outputs": [],
     "prompt_number": 19
    },
    {
     "cell_type": "code",
     "collapsed": false,
     "input": [
      "presidents = pd.DataFrame(president_analysis.groupby(\"president\").sum())"
     ],
     "language": "python",
     "metadata": {},
     "outputs": [],
     "prompt_number": 20
    },
    {
     "cell_type": "markdown",
     "metadata": {},
     "source": [
      "### Analysis of the Presidential Pronoun Dataframe"
     ]
    },
    {
     "cell_type": "code",
     "collapsed": false,
     "input": [
      "round(100.0 * presidents[\"first_person_singular\"].sum() / presidents[\"word_count\"].sum())"
     ],
     "language": "python",
     "metadata": {},
     "outputs": [
      {
       "metadata": {},
       "output_type": "pyout",
       "prompt_number": 21,
       "text": [
        "3.0"
       ]
      }
     ],
     "prompt_number": 21
    },
    {
     "cell_type": "code",
     "collapsed": false,
     "input": [
      "presidents[\"pct_first\"] = presidents.apply(lambda x: round(100.0 * x[\"first_person\"] / x[\"word_count\"], 2), axis=1)"
     ],
     "language": "python",
     "metadata": {},
     "outputs": [],
     "prompt_number": 22
    },
    {
     "cell_type": "code",
     "collapsed": false,
     "input": [
      "presidents[\"pct_first_singular\"] = presidents.apply(lambda x: round(100.0 * x[\"first_person_singular\"] / x[\"word_count\"], 2), axis=1)"
     ],
     "language": "python",
     "metadata": {},
     "outputs": [],
     "prompt_number": 23
    },
    {
     "cell_type": "code",
     "collapsed": false,
     "input": [
      "presidents[\"pct_first_plural\"] = presidents.apply(lambda x: round(100.0 * x[\"first_person_plural\"] / x[\"word_count\"], 2), axis=1)"
     ],
     "language": "python",
     "metadata": {},
     "outputs": [],
     "prompt_number": 24
    },
    {
     "cell_type": "code",
     "collapsed": false,
     "input": [
      "presidents[[\"pct_first_singular\", \"pct_first_plural\", \"pct_first\", \"word_count\"]].sort(\"pct_first_singular\", ascending=False)"
     ],
     "language": "python",
     "metadata": {},
     "outputs": [
      {
       "html": [
        "<div style=\"max-height:1000px;max-width:1500px;overflow:auto;\">\n",
        "<table border=\"1\" class=\"dataframe\">\n",
        "  <thead>\n",
        "    <tr style=\"text-align: right;\">\n",
        "      <th></th>\n",
        "      <th>pct_first_singular</th>\n",
        "      <th>pct_first_plural</th>\n",
        "      <th>pct_first</th>\n",
        "      <th>word_count</th>\n",
        "    </tr>\n",
        "    <tr>\n",
        "      <th>president</th>\n",
        "      <th></th>\n",
        "      <th></th>\n",
        "      <th></th>\n",
        "      <th></th>\n",
        "    </tr>\n",
        "  </thead>\n",
        "  <tbody>\n",
        "    <tr>\n",
        "      <th>Harry S. Truman</th>\n",
        "      <td> 4.85</td>\n",
        "      <td> 0.90</td>\n",
        "      <td> 9.70</td>\n",
        "      <td> 366974</td>\n",
        "    </tr>\n",
        "    <tr>\n",
        "      <th>George Bush</th>\n",
        "      <td> 4.65</td>\n",
        "      <td> 2.38</td>\n",
        "      <td> 9.30</td>\n",
        "      <td> 400470</td>\n",
        "    </tr>\n",
        "    <tr>\n",
        "      <th>Dwight D. Eisenhower</th>\n",
        "      <td> 4.55</td>\n",
        "      <td> 1.75</td>\n",
        "      <td> 9.10</td>\n",
        "      <td> 564562</td>\n",
        "    </tr>\n",
        "    <tr>\n",
        "      <th>Gerald R. Ford</th>\n",
        "      <td> 4.18</td>\n",
        "      <td> 2.13</td>\n",
        "      <td> 8.36</td>\n",
        "      <td> 126528</td>\n",
        "    </tr>\n",
        "    <tr>\n",
        "      <th>Jimmy Carter</th>\n",
        "      <td> 3.50</td>\n",
        "      <td> 2.38</td>\n",
        "      <td> 6.99</td>\n",
        "      <td> 220024</td>\n",
        "    </tr>\n",
        "    <tr>\n",
        "      <th>William J. Clinton</th>\n",
        "      <td> 3.40</td>\n",
        "      <td> 3.03</td>\n",
        "      <td> 6.79</td>\n",
        "      <td> 637070</td>\n",
        "    </tr>\n",
        "    <tr>\n",
        "      <th>Lyndon B. Johnson</th>\n",
        "      <td> 3.11</td>\n",
        "      <td> 3.04</td>\n",
        "      <td> 6.22</td>\n",
        "      <td> 404830</td>\n",
        "    </tr>\n",
        "    <tr>\n",
        "      <th>Richard Nixon</th>\n",
        "      <td> 3.09</td>\n",
        "      <td> 2.32</td>\n",
        "      <td> 6.19</td>\n",
        "      <td> 171527</td>\n",
        "    </tr>\n",
        "    <tr>\n",
        "      <th>George W. Bush</th>\n",
        "      <td> 3.03</td>\n",
        "      <td> 2.87</td>\n",
        "      <td> 6.07</td>\n",
        "      <td> 615121</td>\n",
        "    </tr>\n",
        "    <tr>\n",
        "      <th>Ronald Reagan</th>\n",
        "      <td> 3.00</td>\n",
        "      <td> 3.10</td>\n",
        "      <td> 6.00</td>\n",
        "      <td> 173451</td>\n",
        "    </tr>\n",
        "    <tr>\n",
        "      <th>John F. Kennedy</th>\n",
        "      <td> 2.80</td>\n",
        "      <td> 3.09</td>\n",
        "      <td> 5.60</td>\n",
        "      <td> 245266</td>\n",
        "    </tr>\n",
        "    <tr>\n",
        "      <th>Barack Obama</th>\n",
        "      <td> 2.45</td>\n",
        "      <td> 3.61</td>\n",
        "      <td> 4.90</td>\n",
        "      <td> 473680</td>\n",
        "    </tr>\n",
        "    <tr>\n",
        "      <th>Franklin D. Roosevelt</th>\n",
        "      <td> 2.14</td>\n",
        "      <td> 1.30</td>\n",
        "      <td> 4.29</td>\n",
        "      <td> 314211</td>\n",
        "    </tr>\n",
        "    <tr>\n",
        "      <th>Herbert Hoover</th>\n",
        "      <td> 1.94</td>\n",
        "      <td> 1.13</td>\n",
        "      <td> 3.88</td>\n",
        "      <td> 133108</td>\n",
        "    </tr>\n",
        "  </tbody>\n",
        "</table>\n",
        "</div>"
       ],
       "metadata": {},
       "output_type": "pyout",
       "prompt_number": 25,
       "text": [
        "                       pct_first_singular  pct_first_plural  pct_first  \\\n",
        "president                                                                \n",
        "Harry S. Truman                      4.85              0.90       9.70   \n",
        "George Bush                          4.65              2.38       9.30   \n",
        "Dwight D. Eisenhower                 4.55              1.75       9.10   \n",
        "Gerald R. Ford                       4.18              2.13       8.36   \n",
        "Jimmy Carter                         3.50              2.38       6.99   \n",
        "William J. Clinton                   3.40              3.03       6.79   \n",
        "Lyndon B. Johnson                    3.11              3.04       6.22   \n",
        "Richard Nixon                        3.09              2.32       6.19   \n",
        "George W. Bush                       3.03              2.87       6.07   \n",
        "Ronald Reagan                        3.00              3.10       6.00   \n",
        "John F. Kennedy                      2.80              3.09       5.60   \n",
        "Barack Obama                         2.45              3.61       4.90   \n",
        "Franklin D. Roosevelt                2.14              1.30       4.29   \n",
        "Herbert Hoover                       1.94              1.13       3.88   \n",
        "\n",
        "                       word_count  \n",
        "president                          \n",
        "Harry S. Truman            366974  \n",
        "George Bush                400470  \n",
        "Dwight D. Eisenhower       564562  \n",
        "Gerald R. Ford             126528  \n",
        "Jimmy Carter               220024  \n",
        "William J. Clinton         637070  \n",
        "Lyndon B. Johnson          404830  \n",
        "Richard Nixon              171527  \n",
        "George W. Bush             615121  \n",
        "Ronald Reagan              173451  \n",
        "John F. Kennedy            245266  \n",
        "Barack Obama               473680  \n",
        "Franklin D. Roosevelt      314211  \n",
        "Herbert Hoover             133108  "
       ]
      }
     ],
     "prompt_number": 25
    },
    {
     "cell_type": "code",
     "collapsed": false,
     "input": [
      "presidents[[\"pct_first_singular\", \"pct_first_plural\", \"pct_first\", \"word_count\"]].sort(\"pct_first_plural\", ascending=False)"
     ],
     "language": "python",
     "metadata": {},
     "outputs": [
      {
       "html": [
        "<div style=\"max-height:1000px;max-width:1500px;overflow:auto;\">\n",
        "<table border=\"1\" class=\"dataframe\">\n",
        "  <thead>\n",
        "    <tr style=\"text-align: right;\">\n",
        "      <th></th>\n",
        "      <th>pct_first_singular</th>\n",
        "      <th>pct_first_plural</th>\n",
        "      <th>pct_first</th>\n",
        "      <th>word_count</th>\n",
        "    </tr>\n",
        "    <tr>\n",
        "      <th>president</th>\n",
        "      <th></th>\n",
        "      <th></th>\n",
        "      <th></th>\n",
        "      <th></th>\n",
        "    </tr>\n",
        "  </thead>\n",
        "  <tbody>\n",
        "    <tr>\n",
        "      <th>Barack Obama</th>\n",
        "      <td> 2.45</td>\n",
        "      <td> 3.61</td>\n",
        "      <td> 4.90</td>\n",
        "      <td> 473680</td>\n",
        "    </tr>\n",
        "    <tr>\n",
        "      <th>Ronald Reagan</th>\n",
        "      <td> 3.00</td>\n",
        "      <td> 3.10</td>\n",
        "      <td> 6.00</td>\n",
        "      <td> 173451</td>\n",
        "    </tr>\n",
        "    <tr>\n",
        "      <th>John F. Kennedy</th>\n",
        "      <td> 2.80</td>\n",
        "      <td> 3.09</td>\n",
        "      <td> 5.60</td>\n",
        "      <td> 245266</td>\n",
        "    </tr>\n",
        "    <tr>\n",
        "      <th>Lyndon B. Johnson</th>\n",
        "      <td> 3.11</td>\n",
        "      <td> 3.04</td>\n",
        "      <td> 6.22</td>\n",
        "      <td> 404830</td>\n",
        "    </tr>\n",
        "    <tr>\n",
        "      <th>William J. Clinton</th>\n",
        "      <td> 3.40</td>\n",
        "      <td> 3.03</td>\n",
        "      <td> 6.79</td>\n",
        "      <td> 637070</td>\n",
        "    </tr>\n",
        "    <tr>\n",
        "      <th>George W. Bush</th>\n",
        "      <td> 3.03</td>\n",
        "      <td> 2.87</td>\n",
        "      <td> 6.07</td>\n",
        "      <td> 615121</td>\n",
        "    </tr>\n",
        "    <tr>\n",
        "      <th>George Bush</th>\n",
        "      <td> 4.65</td>\n",
        "      <td> 2.38</td>\n",
        "      <td> 9.30</td>\n",
        "      <td> 400470</td>\n",
        "    </tr>\n",
        "    <tr>\n",
        "      <th>Jimmy Carter</th>\n",
        "      <td> 3.50</td>\n",
        "      <td> 2.38</td>\n",
        "      <td> 6.99</td>\n",
        "      <td> 220024</td>\n",
        "    </tr>\n",
        "    <tr>\n",
        "      <th>Richard Nixon</th>\n",
        "      <td> 3.09</td>\n",
        "      <td> 2.32</td>\n",
        "      <td> 6.19</td>\n",
        "      <td> 171527</td>\n",
        "    </tr>\n",
        "    <tr>\n",
        "      <th>Gerald R. Ford</th>\n",
        "      <td> 4.18</td>\n",
        "      <td> 2.13</td>\n",
        "      <td> 8.36</td>\n",
        "      <td> 126528</td>\n",
        "    </tr>\n",
        "    <tr>\n",
        "      <th>Dwight D. Eisenhower</th>\n",
        "      <td> 4.55</td>\n",
        "      <td> 1.75</td>\n",
        "      <td> 9.10</td>\n",
        "      <td> 564562</td>\n",
        "    </tr>\n",
        "    <tr>\n",
        "      <th>Franklin D. Roosevelt</th>\n",
        "      <td> 2.14</td>\n",
        "      <td> 1.30</td>\n",
        "      <td> 4.29</td>\n",
        "      <td> 314211</td>\n",
        "    </tr>\n",
        "    <tr>\n",
        "      <th>Herbert Hoover</th>\n",
        "      <td> 1.94</td>\n",
        "      <td> 1.13</td>\n",
        "      <td> 3.88</td>\n",
        "      <td> 133108</td>\n",
        "    </tr>\n",
        "    <tr>\n",
        "      <th>Harry S. Truman</th>\n",
        "      <td> 4.85</td>\n",
        "      <td> 0.90</td>\n",
        "      <td> 9.70</td>\n",
        "      <td> 366974</td>\n",
        "    </tr>\n",
        "  </tbody>\n",
        "</table>\n",
        "</div>"
       ],
       "metadata": {},
       "output_type": "pyout",
       "prompt_number": 26,
       "text": [
        "                       pct_first_singular  pct_first_plural  pct_first  \\\n",
        "president                                                                \n",
        "Barack Obama                         2.45              3.61       4.90   \n",
        "Ronald Reagan                        3.00              3.10       6.00   \n",
        "John F. Kennedy                      2.80              3.09       5.60   \n",
        "Lyndon B. Johnson                    3.11              3.04       6.22   \n",
        "William J. Clinton                   3.40              3.03       6.79   \n",
        "George W. Bush                       3.03              2.87       6.07   \n",
        "George Bush                          4.65              2.38       9.30   \n",
        "Jimmy Carter                         3.50              2.38       6.99   \n",
        "Richard Nixon                        3.09              2.32       6.19   \n",
        "Gerald R. Ford                       4.18              2.13       8.36   \n",
        "Dwight D. Eisenhower                 4.55              1.75       9.10   \n",
        "Franklin D. Roosevelt                2.14              1.30       4.29   \n",
        "Herbert Hoover                       1.94              1.13       3.88   \n",
        "Harry S. Truman                      4.85              0.90       9.70   \n",
        "\n",
        "                       word_count  \n",
        "president                          \n",
        "Barack Obama               473680  \n",
        "Ronald Reagan              173451  \n",
        "John F. Kennedy            245266  \n",
        "Lyndon B. Johnson          404830  \n",
        "William J. Clinton         637070  \n",
        "George W. Bush             615121  \n",
        "George Bush                400470  \n",
        "Jimmy Carter               220024  \n",
        "Richard Nixon              171527  \n",
        "Gerald R. Ford             126528  \n",
        "Dwight D. Eisenhower       564562  \n",
        "Franklin D. Roosevelt      314211  \n",
        "Herbert Hoover             133108  \n",
        "Harry S. Truman            366974  "
       ]
      }
     ],
     "prompt_number": 26
    },
    {
     "cell_type": "code",
     "collapsed": false,
     "input": [
      "presidents[[\"pct_first_singular\", \"pct_first_plural\", \"pct_first\", \"word_count\"]].sort(\"pct_first\", ascending=False)"
     ],
     "language": "python",
     "metadata": {},
     "outputs": [
      {
       "html": [
        "<div style=\"max-height:1000px;max-width:1500px;overflow:auto;\">\n",
        "<table border=\"1\" class=\"dataframe\">\n",
        "  <thead>\n",
        "    <tr style=\"text-align: right;\">\n",
        "      <th></th>\n",
        "      <th>pct_first_singular</th>\n",
        "      <th>pct_first_plural</th>\n",
        "      <th>pct_first</th>\n",
        "      <th>word_count</th>\n",
        "    </tr>\n",
        "    <tr>\n",
        "      <th>president</th>\n",
        "      <th></th>\n",
        "      <th></th>\n",
        "      <th></th>\n",
        "      <th></th>\n",
        "    </tr>\n",
        "  </thead>\n",
        "  <tbody>\n",
        "    <tr>\n",
        "      <th>Harry S. Truman</th>\n",
        "      <td> 4.85</td>\n",
        "      <td> 0.90</td>\n",
        "      <td> 9.70</td>\n",
        "      <td> 366974</td>\n",
        "    </tr>\n",
        "    <tr>\n",
        "      <th>George Bush</th>\n",
        "      <td> 4.65</td>\n",
        "      <td> 2.38</td>\n",
        "      <td> 9.30</td>\n",
        "      <td> 400470</td>\n",
        "    </tr>\n",
        "    <tr>\n",
        "      <th>Dwight D. Eisenhower</th>\n",
        "      <td> 4.55</td>\n",
        "      <td> 1.75</td>\n",
        "      <td> 9.10</td>\n",
        "      <td> 564562</td>\n",
        "    </tr>\n",
        "    <tr>\n",
        "      <th>Gerald R. Ford</th>\n",
        "      <td> 4.18</td>\n",
        "      <td> 2.13</td>\n",
        "      <td> 8.36</td>\n",
        "      <td> 126528</td>\n",
        "    </tr>\n",
        "    <tr>\n",
        "      <th>Jimmy Carter</th>\n",
        "      <td> 3.50</td>\n",
        "      <td> 2.38</td>\n",
        "      <td> 6.99</td>\n",
        "      <td> 220024</td>\n",
        "    </tr>\n",
        "    <tr>\n",
        "      <th>William J. Clinton</th>\n",
        "      <td> 3.40</td>\n",
        "      <td> 3.03</td>\n",
        "      <td> 6.79</td>\n",
        "      <td> 637070</td>\n",
        "    </tr>\n",
        "    <tr>\n",
        "      <th>Lyndon B. Johnson</th>\n",
        "      <td> 3.11</td>\n",
        "      <td> 3.04</td>\n",
        "      <td> 6.22</td>\n",
        "      <td> 404830</td>\n",
        "    </tr>\n",
        "    <tr>\n",
        "      <th>Richard Nixon</th>\n",
        "      <td> 3.09</td>\n",
        "      <td> 2.32</td>\n",
        "      <td> 6.19</td>\n",
        "      <td> 171527</td>\n",
        "    </tr>\n",
        "    <tr>\n",
        "      <th>George W. Bush</th>\n",
        "      <td> 3.03</td>\n",
        "      <td> 2.87</td>\n",
        "      <td> 6.07</td>\n",
        "      <td> 615121</td>\n",
        "    </tr>\n",
        "    <tr>\n",
        "      <th>Ronald Reagan</th>\n",
        "      <td> 3.00</td>\n",
        "      <td> 3.10</td>\n",
        "      <td> 6.00</td>\n",
        "      <td> 173451</td>\n",
        "    </tr>\n",
        "    <tr>\n",
        "      <th>John F. Kennedy</th>\n",
        "      <td> 2.80</td>\n",
        "      <td> 3.09</td>\n",
        "      <td> 5.60</td>\n",
        "      <td> 245266</td>\n",
        "    </tr>\n",
        "    <tr>\n",
        "      <th>Barack Obama</th>\n",
        "      <td> 2.45</td>\n",
        "      <td> 3.61</td>\n",
        "      <td> 4.90</td>\n",
        "      <td> 473680</td>\n",
        "    </tr>\n",
        "    <tr>\n",
        "      <th>Franklin D. Roosevelt</th>\n",
        "      <td> 2.14</td>\n",
        "      <td> 1.30</td>\n",
        "      <td> 4.29</td>\n",
        "      <td> 314211</td>\n",
        "    </tr>\n",
        "    <tr>\n",
        "      <th>Herbert Hoover</th>\n",
        "      <td> 1.94</td>\n",
        "      <td> 1.13</td>\n",
        "      <td> 3.88</td>\n",
        "      <td> 133108</td>\n",
        "    </tr>\n",
        "  </tbody>\n",
        "</table>\n",
        "</div>"
       ],
       "metadata": {},
       "output_type": "pyout",
       "prompt_number": 27,
       "text": [
        "                       pct_first_singular  pct_first_plural  pct_first  \\\n",
        "president                                                                \n",
        "Harry S. Truman                      4.85              0.90       9.70   \n",
        "George Bush                          4.65              2.38       9.30   \n",
        "Dwight D. Eisenhower                 4.55              1.75       9.10   \n",
        "Gerald R. Ford                       4.18              2.13       8.36   \n",
        "Jimmy Carter                         3.50              2.38       6.99   \n",
        "William J. Clinton                   3.40              3.03       6.79   \n",
        "Lyndon B. Johnson                    3.11              3.04       6.22   \n",
        "Richard Nixon                        3.09              2.32       6.19   \n",
        "George W. Bush                       3.03              2.87       6.07   \n",
        "Ronald Reagan                        3.00              3.10       6.00   \n",
        "John F. Kennedy                      2.80              3.09       5.60   \n",
        "Barack Obama                         2.45              3.61       4.90   \n",
        "Franklin D. Roosevelt                2.14              1.30       4.29   \n",
        "Herbert Hoover                       1.94              1.13       3.88   \n",
        "\n",
        "                       word_count  \n",
        "president                          \n",
        "Harry S. Truman            366974  \n",
        "George Bush                400470  \n",
        "Dwight D. Eisenhower       564562  \n",
        "Gerald R. Ford             126528  \n",
        "Jimmy Carter               220024  \n",
        "William J. Clinton         637070  \n",
        "Lyndon B. Johnson          404830  \n",
        "Richard Nixon              171527  \n",
        "George W. Bush             615121  \n",
        "Ronald Reagan              173451  \n",
        "John F. Kennedy            245266  \n",
        "Barack Obama               473680  \n",
        "Franklin D. Roosevelt      314211  \n",
        "Herbert Hoover             133108  "
       ]
      }
     ],
     "prompt_number": 27
    },
    {
     "cell_type": "markdown",
     "metadata": {},
     "source": [
      "### Singular vs. Plural Pronouns Over Time"
     ]
    },
    {
     "cell_type": "code",
     "collapsed": false,
     "input": [
      "%matplotlib inline\n",
      "import mplstyle, mplstyle.styles.simple\n",
      "mplstyle.set(mplstyle.styles.simple)\n",
      "mplstyle.set({ \n",
      "    \"figure.figsize\": (10, 6),\n",
      "    \"axes\": {\n",
      "        \"color_cycle\": [ \"teal\", \"red\" ],\n",
      "    },\n",
      "    \"lines\": {\n",
      "        \"linewidth\": 2\n",
      "    }\n",
      "})"
     ],
     "language": "python",
     "metadata": {},
     "outputs": [],
     "prompt_number": 28
    },
    {
     "cell_type": "code",
     "collapsed": false,
     "input": [
      "import datetime\n",
      "president_analysis[\"datetime\"] = president_analysis[\"date\"].apply(lambda x: datetime.datetime(x.year, x.month, x.day))"
     ],
     "language": "python",
     "metadata": {},
     "outputs": [],
     "prompt_number": 29
    },
    {
     "cell_type": "code",
     "collapsed": false,
     "input": [
      "def get_term_freq(df, term, resampler=\"AS\"):\n",
      "    _ = df.set_index(\"datetime\")\n",
      "    total_words = _[\"word_count\"].resample(resampler, how=\"sum\")\n",
      "    freq_count = _[term].resample(resampler, how=\"sum\")\n",
      "    return (100.0 * freq_count / total_words)"
     ],
     "language": "python",
     "metadata": {},
     "outputs": [],
     "prompt_number": 30
    },
    {
     "cell_type": "code",
     "collapsed": false,
     "input": [
      "ax = get_term_freq(president_analysis, \"first_person_singular\").plot(kind=\"line\", label=\"singular\", color=\"r\")\n",
      "get_term_freq(president_analysis, \"first_person_plural\").plot(kind=\"line\", label=\"plural\", color=\"b\")\n",
      "ax.legend(bbox_to_anchor=(0.2, 1))\n",
      "pass"
     ],
     "language": "python",
     "metadata": {},
     "outputs": [
      {
       "metadata": {},
       "output_type": "display_data",
       "png": "[encoded data removed]",
       "text": [
        "<matplotlib.figure.Figure at 0x135c3c950>"
       ]
      }
     ],
     "prompt_number": 31
    },
    {
     "cell_type": "code",
     "collapsed": false,
     "input": [
      "terms_df = pd.DataFrame(get_term_freq(president_analysis, \"first_person_singular\"))\n",
      "terms_df.columns = [\"singular\"]\n",
      "terms_df[\"plural\"] = get_term_freq(president_analysis, \"first_person_plural\")"
     ],
     "language": "python",
     "metadata": {},
     "outputs": [],
     "prompt_number": 32
    },
    {
     "cell_type": "code",
     "collapsed": false,
     "input": [
      "terms_df[\"date\"] = terms_df.index\n",
      "terms_df[\"year\"] = terms_df[\"date\"].apply(lambda x: int(x.year))\n",
      "terms_df.set_index(\"year\")\n",
      "terms_df[[\"singular\", \"plural\"]].to_csv(\"singularVsPlural2.csv\")"
     ],
     "language": "python",
     "metadata": {},
     "outputs": [],
     "prompt_number": 33
    }
   ],
   "metadata": {}
  }
 ]
}